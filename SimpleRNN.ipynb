{
 "cells": [
  {
   "cell_type": "code",
   "execution_count": 1,
   "id": "d033cd33",
   "metadata": {},
   "outputs": [],
   "source": [
    "import numpy as np\n",
    "import tensorflow as tf\n",
    "from tensorflow.keras.layers import Embedding,SimpleRNN,Dense\n",
    "from tensorflow.keras.models import Sequential\n",
    "from tensorflow.keras.preprocessing import sequence\n",
    "from tensorflow.keras.datasets import imdb"
   ]
  },
  {
   "cell_type": "code",
   "execution_count": null,
   "id": "11270687",
   "metadata": {},
   "outputs": [],
   "source": [
    "#load the IMDB dataset\n",
    "max_features = 10000    #<-Vocab size\n",
    "(x_train,y_train),(x_test,y_test) = imdb.load_data(num_words=max_features)"
   ]
  },
  {
   "cell_type": "code",
   "execution_count": 3,
   "id": "cc2c160c",
   "metadata": {},
   "outputs": [],
   "source": [
    "#inspect our sample review\n",
    "sample_review = x_train[0]"
   ]
  },
  {
   "cell_type": "code",
   "execution_count": 4,
   "id": "b68a904c",
   "metadata": {},
   "outputs": [
    {
     "data": {
      "text/plain": [
       "\"? this film was just brilliant casting location scenery story direction everyone's really suited the part they played and you could just imagine being there robert ? is an amazing actor and now the same being director ? father came from the same scottish island as myself so i loved the fact there was a real connection with this film the witty remarks throughout the film were great it was just brilliant so much that i bought the film as soon as it was released for ? and would recommend it to everyone to watch and the fly fishing was amazing really cried at the end it was so sad and you know what they say if you cry at a film it must have been good and this definitely was also ? to the two little boy's that played the ? of norman and paul they were just brilliant children are often left out of the ? list i think because the stars that play them all grown up are such a big profile for the whole film but these children are amazing and should be praised for what they have done don't you think the whole story was so lovely because it was true and was someone's life after all that was shared with us all\""
      ]
     },
     "execution_count": 4,
     "metadata": {},
     "output_type": "execute_result"
    }
   ],
   "source": [
    "word_index = imdb.get_word_index()\n",
    "reversed_word_index = {value: key for key,value in word_index.items()}\n",
    "decoded_review = ' '.join([reversed_word_index.get(i-3,'?') for i in sample_review])\n",
    "decoded_review\n"
   ]
  },
  {
   "cell_type": "code",
   "execution_count": 5,
   "id": "f1b7c83a",
   "metadata": {},
   "outputs": [
    {
     "data": {
      "text/plain": [
       "array([[   0,    0,    0, ...,   19,  178,   32],\n",
       "       [   0,    0,    0, ...,   16,  145,   95],\n",
       "       [   0,    0,    0, ...,    7,  129,  113],\n",
       "       ...,\n",
       "       [   0,    0,    0, ...,    4, 3586,    2],\n",
       "       [   0,    0,    0, ...,   12,    9,   23],\n",
       "       [   0,    0,    0, ...,  204,  131,    9]], dtype=int32)"
      ]
     },
     "execution_count": 5,
     "metadata": {},
     "output_type": "execute_result"
    }
   ],
   "source": [
    "#padding to our training and testing data\n",
    "max_len = 500\n",
    "x_train = sequence.pad_sequences(x_train,maxlen=max_len)\n",
    "x_test = sequence.pad_sequences(x_test,maxlen=max_len)\n",
    "x_train"
   ]
  },
  {
   "cell_type": "code",
   "execution_count": 6,
   "id": "ab6b6695",
   "metadata": {},
   "outputs": [],
   "source": [
    "#train simpleRNN\n",
    "model = Sequential()\n",
    "model.add(Embedding(max_features,128,input_length = max_len))\n",
    "model.add(SimpleRNN(128,activation='relu'))\n",
    "model.add(Dense(1,activation='sigmoid'))"
   ]
  },
  {
   "cell_type": "code",
   "execution_count": 7,
   "id": "da7b8397",
   "metadata": {},
   "outputs": [
    {
     "name": "stdout",
     "output_type": "stream",
     "text": [
      "Model: \"sequential\"\n",
      "_________________________________________________________________\n",
      " Layer (type)                Output Shape              Param #   \n",
      "=================================================================\n",
      " embedding (Embedding)       (None, 500, 128)          1280000   \n",
      "                                                                 \n",
      " simple_rnn (SimpleRNN)      (None, 128)               32896     \n",
      "                                                                 \n",
      " dense (Dense)               (None, 1)                 129       \n",
      "                                                                 \n",
      "=================================================================\n",
      "Total params: 1313025 (5.01 MB)\n",
      "Trainable params: 1313025 (5.01 MB)\n",
      "Non-trainable params: 0 (0.00 Byte)\n",
      "_________________________________________________________________\n"
     ]
    }
   ],
   "source": [
    "model.summary()"
   ]
  },
  {
   "cell_type": "code",
   "execution_count": 8,
   "id": "a9418f9f",
   "metadata": {},
   "outputs": [],
   "source": [
    "model.compile(optimizer='adam',loss='binary_crossentropy',metrics=['accuracy'])"
   ]
  },
  {
   "cell_type": "code",
   "execution_count": 9,
   "id": "52f95713",
   "metadata": {},
   "outputs": [
    {
     "data": {
      "text/plain": [
       "<keras.src.callbacks.EarlyStopping at 0x31b5b7890>"
      ]
     },
     "execution_count": 9,
     "metadata": {},
     "output_type": "execute_result"
    }
   ],
   "source": [
    "#create an instance for EarlyStopping callback\n",
    "from tensorflow.keras.callbacks import EarlyStopping\n",
    "earlystopping = EarlyStopping(monitor = 'val_loss',patience = 5,restore_best_weights=True)\n",
    "earlystopping\n"
   ]
  },
  {
   "cell_type": "code",
   "execution_count": 10,
   "id": "6ee9d43c",
   "metadata": {},
   "outputs": [
    {
     "name": "stdout",
     "output_type": "stream",
     "text": [
      "Epoch 1/10\n",
      "625/625 [==============================] - 53s 84ms/step - loss: 57534.7656 - accuracy: 0.6605 - val_loss: 0.5634 - val_accuracy: 0.7056\n",
      "Epoch 2/10\n",
      "625/625 [==============================] - 51s 82ms/step - loss: 2.2185 - accuracy: 0.7878 - val_loss: 0.5906 - val_accuracy: 0.6698\n",
      "Epoch 3/10\n",
      "625/625 [==============================] - 51s 81ms/step - loss: 0.4799 - accuracy: 0.7882 - val_loss: 0.5091 - val_accuracy: 0.7586\n",
      "Epoch 4/10\n",
      "625/625 [==============================] - 51s 82ms/step - loss: 0.3623 - accuracy: 0.8614 - val_loss: 0.4867 - val_accuracy: 0.7822\n",
      "Epoch 5/10\n",
      "625/625 [==============================] - 51s 82ms/step - loss: 0.2761 - accuracy: 0.9020 - val_loss: 0.4851 - val_accuracy: 0.7952\n",
      "Epoch 6/10\n",
      "625/625 [==============================] - 51s 82ms/step - loss: 0.2191 - accuracy: 0.9252 - val_loss: 0.5148 - val_accuracy: 0.7948\n",
      "Epoch 7/10\n",
      "625/625 [==============================] - 52s 82ms/step - loss: 0.2392 - accuracy: 0.9068 - val_loss: 0.5419 - val_accuracy: 0.7876\n",
      "Epoch 8/10\n",
      "625/625 [==============================] - 52s 83ms/step - loss: 0.1735 - accuracy: 0.9422 - val_loss: 0.5625 - val_accuracy: 0.7940\n",
      "Epoch 9/10\n",
      "625/625 [==============================] - 56s 90ms/step - loss: 0.1600 - accuracy: 0.9451 - val_loss: 0.5972 - val_accuracy: 0.7824\n",
      "Epoch 10/10\n",
      "625/625 [==============================] - 56s 90ms/step - loss: 0.1391 - accuracy: 0.9534 - val_loss: 0.6853 - val_accuracy: 0.7834\n"
     ]
    },
    {
     "data": {
      "text/plain": [
       "<keras.src.callbacks.History at 0x174b8abd0>"
      ]
     },
     "execution_count": 10,
     "metadata": {},
     "output_type": "execute_result"
    }
   ],
   "source": [
    "#train the model\n",
    "model.fit(x_train,\n",
    "          y_train,\n",
    "          epochs=10,batch_size = 32,\n",
    "          validation_split = 0.2,\n",
    "          callbacks=[earlystopping])"
   ]
  },
  {
   "cell_type": "code",
   "execution_count": 11,
   "id": "8803794a",
   "metadata": {},
   "outputs": [
    {
     "name": "stderr",
     "output_type": "stream",
     "text": [
      "/Users/ravichoudhary/Desktop/genAI_projects/myenv/lib/python3.11/site-packages/keras/src/engine/training.py:3103: UserWarning: You are saving your model as an HDF5 file via `model.save()`. This file format is considered legacy. We recommend using instead the native Keras format, e.g. `model.save('my_model.keras')`.\n",
      "  saving_api.save_model(\n"
     ]
    }
   ],
   "source": [
    "model.save(\"simple_rnn_imdb.h5\")"
   ]
  }
 ],
 "metadata": {
  "kernelspec": {
   "display_name": "myenv",
   "language": "python",
   "name": "python3"
  },
  "language_info": {
   "codemirror_mode": {
    "name": "ipython",
    "version": 3
   },
   "file_extension": ".py",
   "mimetype": "text/x-python",
   "name": "python",
   "nbconvert_exporter": "python",
   "pygments_lexer": "ipython3",
   "version": "3.11.13"
  }
 },
 "nbformat": 4,
 "nbformat_minor": 5
}
